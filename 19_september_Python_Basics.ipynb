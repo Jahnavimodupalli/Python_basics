{
 "cells": [
  {
   "cell_type": "markdown",
   "id": "59ef8d9d-6990-4a8c-8f71-c59f63b88bd4",
   "metadata": {},
   "source": [
    "# "
   ]
  },
  {
   "cell_type": "code",
   "execution_count": 8,
   "id": "866ebd56-b514-4701-b5d8-7c0470ed6fc9",
   "metadata": {},
   "outputs": [],
   "source": [
    "a=10 #assign a value to the integer a"
   ]
  },
  {
   "cell_type": "code",
   "execution_count": 9,
   "id": "29d91352-8460-4f3d-8489-f82468482433",
   "metadata": {},
   "outputs": [],
   "source": [
    "b=20 #assign a value to the integer b"
   ]
  },
  {
   "cell_type": "code",
   "execution_count": 10,
   "id": "ae4ffe39-d86c-4694-ba5a-311e6d471b6b",
   "metadata": {},
   "outputs": [],
   "source": [
    "a=b+a #add the a and b and store it in the variable a"
   ]
  },
  {
   "cell_type": "code",
   "execution_count": 11,
   "id": "e435cb16-ee4b-4d1e-97a2-487f007e30a1",
   "metadata": {},
   "outputs": [],
   "source": [
    "b=a-b #subtract b from the sum of two numbers so that you get the a value and store it in the b"
   ]
  },
  {
   "cell_type": "code",
   "execution_count": 12,
   "id": "c1977dc1-7491-45b1-8499-7c223ed5da64",
   "metadata": {},
   "outputs": [],
   "source": [
    "a=a-b #subtract b value from the sum of two numbers so that you get a as a value is stored in b "
   ]
  },
  {
   "cell_type": "code",
   "execution_count": 26,
   "id": "5f074014-610c-43c3-8031-65d8bd6707f6",
   "metadata": {},
   "outputs": [
    {
     "name": "stdout",
     "output_type": "stream",
     "text": [
      "20\n"
     ]
    }
   ],
   "source": [
    "print(a) # Display the a"
   ]
  },
  {
   "cell_type": "code",
   "execution_count": 27,
   "id": "9f85d6ab-7156-4e46-9717-1360508c72f7",
   "metadata": {},
   "outputs": [
    {
     "name": "stdout",
     "output_type": "stream",
     "text": [
      "10\n"
     ]
    }
   ],
   "source": [
    "print(b)# Display the b"
   ]
  },
  {
   "cell_type": "code",
   "execution_count": 15,
   "id": "b4fba7c1-6816-4b88-81d6-5ab3df94e874",
   "metadata": {},
   "outputs": [],
   "source": [
    "#Calculate the area of the rectangle"
   ]
  },
  {
   "cell_type": "code",
   "execution_count": 17,
   "id": "773f677c-577b-43e7-aa5a-a835ba81a53b",
   "metadata": {},
   "outputs": [
    {
     "name": "stdin",
     "output_type": "stream",
     "text": [
      " 23\n"
     ]
    }
   ],
   "source": [
    "length=float(input()) #take the dynamic input for length"
   ]
  },
  {
   "cell_type": "code",
   "execution_count": 18,
   "id": "6e48c272-bf9c-44dc-9fc7-a7fda6142387",
   "metadata": {},
   "outputs": [
    {
     "name": "stdin",
     "output_type": "stream",
     "text": [
      " 43\n"
     ]
    }
   ],
   "source": [
    "width=float(input()) #take the dynamic input for width"
   ]
  },
  {
   "cell_type": "code",
   "execution_count": 19,
   "id": "379ff94f-8bd7-42ec-9b2d-c40b3551e754",
   "metadata": {},
   "outputs": [],
   "source": [
    "area=length*width #Calculate the area by multipling length and width"
   ]
  },
  {
   "cell_type": "code",
   "execution_count": 28,
   "id": "d82b3504-4f17-4d0e-92cf-3a8679125ca9",
   "metadata": {},
   "outputs": [
    {
     "name": "stdout",
     "output_type": "stream",
     "text": [
      "989.0\n"
     ]
    }
   ],
   "source": [
    "print(area) # Display the area"
   ]
  },
  {
   "cell_type": "code",
   "execution_count": 21,
   "id": "1504bfc7-90a2-43f6-bd0e-78d79df6639f",
   "metadata": {},
   "outputs": [],
   "source": [
    "#calculate the temperature"
   ]
  },
  {
   "cell_type": "code",
   "execution_count": 22,
   "id": "689be750-bfa8-4f83-a554-c631ef2a8c93",
   "metadata": {},
   "outputs": [
    {
     "name": "stdin",
     "output_type": "stream",
     "text": [
      " 37\n"
     ]
    }
   ],
   "source": [
    "celsius = float(input())  # Get the temperature in Celsius from the user\n"
   ]
  },
  {
   "cell_type": "code",
   "execution_count": 24,
   "id": "6171e493-dd09-42d4-9a17-50ba4ff2eb14",
   "metadata": {},
   "outputs": [],
   "source": [
    "fahrenheit = (celsius * 9/5) + 32 # Convert Celsius to Fahrenheit using the formula: F = (C * 9/5) + 32"
   ]
  },
  {
   "cell_type": "code",
   "execution_count": 25,
   "id": "dba4fd90-ca9d-4f8c-8f01-77542b86eabf",
   "metadata": {},
   "outputs": [
    {
     "name": "stdout",
     "output_type": "stream",
     "text": [
      "98.6\n"
     ]
    }
   ],
   "source": [
    "print(fahrenheit) # Display the result"
   ]
  },
  {
   "cell_type": "code",
   "execution_count": 29,
   "id": "b89d1d50-1d43-4d3d-a0f2-c1a2f349394f",
   "metadata": {},
   "outputs": [],
   "source": [
    "#find the length of the string"
   ]
  },
  {
   "cell_type": "code",
   "execution_count": 31,
   "id": "29229aad-f9c0-48c2-a648-7fc91607b477",
   "metadata": {},
   "outputs": [
    {
     "name": "stdin",
     "output_type": "stream",
     "text": [
      " jahnavi\n"
     ]
    }
   ],
   "source": [
    "a=input() #take the dynamic input of the string"
   ]
  },
  {
   "cell_type": "code",
   "execution_count": 32,
   "id": "a20fe254-9525-4f1e-8d38-e770a82e4495",
   "metadata": {},
   "outputs": [],
   "source": [
    "c=len(a) # Calculate the length of the string"
   ]
  },
  {
   "cell_type": "code",
   "execution_count": 33,
   "id": "1ec7888e-ad3e-4374-b345-aac3a44e397a",
   "metadata": {},
   "outputs": [
    {
     "name": "stdout",
     "output_type": "stream",
     "text": [
      "7\n"
     ]
    }
   ],
   "source": [
    "print(c) # Display the length of the string"
   ]
  },
  {
   "cell_type": "code",
   "execution_count": 1,
   "id": "6c074d2f-bc34-478c-be9a-e8a13f333fba",
   "metadata": {},
   "outputs": [],
   "source": [
    "#count the number of vowels"
   ]
  },
  {
   "cell_type": "code",
   "execution_count": 1,
   "id": "98763d64-8d02-47cd-9fae-36e22d7226d0",
   "metadata": {},
   "outputs": [
    {
     "name": "stdin",
     "output_type": "stream",
     "text": [
      " jahnavi\n"
     ]
    }
   ],
   "source": [
    "string = input() # Input string"
   ]
  },
  {
   "cell_type": "code",
   "execution_count": 2,
   "id": "08d4e267-fb5d-4a7b-ba07-14e464352e90",
   "metadata": {},
   "outputs": [],
   "source": [
    "vowels = \"AEIOUaeiou\" # Define a string containing all the vowels"
   ]
  },
  {
   "cell_type": "code",
   "execution_count": 6,
   "id": "b8233183-0c71-482b-937b-a49983098ac0",
   "metadata": {},
   "outputs": [
    {
     "name": "stdout",
     "output_type": "stream",
     "text": [
      "A 0\n",
      "E 0\n",
      "I 0\n",
      "O 0\n",
      "U 0\n",
      "a 2\n",
      "e 0\n",
      "i 1\n",
      "o 0\n",
      "u 0\n"
     ]
    }
   ],
   "source": [
    "for v in vowels:  # Loop through each character in the string\n",
    "    print(v, string.lower().count(v)) #convert to lowercase and count the number of vowels print result"
   ]
  },
  {
   "cell_type": "code",
   "execution_count": 7,
   "id": "62e2787e-50be-46a1-810e-02085c9cc366",
   "metadata": {},
   "outputs": [],
   "source": [
    "#reversing a string"
   ]
  },
  {
   "cell_type": "code",
   "execution_count": 8,
   "id": "6fb9ff1f-9fdf-4fdc-b085-0c6c7c00a400",
   "metadata": {},
   "outputs": [
    {
     "name": "stdin",
     "output_type": "stream",
     "text": [
      " jahnavi\n"
     ]
    }
   ],
   "source": [
    "s=input()"
   ]
  },
  {
   "cell_type": "code",
   "execution_count": 11,
   "id": "0302dc3e-5d43-4723-af98-be986fef6e19",
   "metadata": {},
   "outputs": [],
   "source": [
    "c=s[::-1] #sliced the given string "
   ]
  },
  {
   "cell_type": "code",
   "execution_count": 13,
   "id": "f5a95fad-995d-4ebb-8b7d-915c12a424f1",
   "metadata": {},
   "outputs": [
    {
     "name": "stdout",
     "output_type": "stream",
     "text": [
      "ivanhaj\n"
     ]
    }
   ],
   "source": [
    "print(c) #display the result"
   ]
  },
  {
   "cell_type": "code",
   "execution_count": 14,
   "id": "4f9f2bb3-170a-4524-a374-e9dd91476493",
   "metadata": {},
   "outputs": [],
   "source": [
    "#check palindrome or not"
   ]
  },
  {
   "cell_type": "code",
   "execution_count": 19,
   "id": "607e2d69-511f-4fb7-8c47-69affe86dac9",
   "metadata": {},
   "outputs": [
    {
     "name": "stdin",
     "output_type": "stream",
     "text": [
      " jahnavi\n"
     ]
    }
   ],
   "source": [
    "s=input() #input string"
   ]
  },
  {
   "cell_type": "code",
   "execution_count": 20,
   "id": "8a9f0881-1362-4f3b-8e1f-039974d33cce",
   "metadata": {},
   "outputs": [],
   "source": [
    "c=s[::-1] #sliced the given string "
   ]
  },
  {
   "cell_type": "code",
   "execution_count": 21,
   "id": "32ecd8d8-d134-44bd-a6fe-2203f761f488",
   "metadata": {},
   "outputs": [
    {
     "name": "stdout",
     "output_type": "stream",
     "text": [
      "not palindrome\n"
     ]
    }
   ],
   "source": [
    "if c==s: #take if and check wether the string in the c is equal to the s or not\n",
    "    print(\"palindrome\") #if yes print palindrome\n",
    "else: \n",
    "    print(\"not palindrome\") #if not print not a palindrome"
   ]
  },
  {
   "cell_type": "code",
   "execution_count": 22,
   "id": "dc78ba7c-7a24-4326-9298-91bdacca813f",
   "metadata": {},
   "outputs": [],
   "source": [
    "# modified string without spaces"
   ]
  },
  {
   "cell_type": "code",
   "execution_count": 25,
   "id": "f6cfc9dd-d9d2-45bd-a90c-35841c198767",
   "metadata": {},
   "outputs": [
    {
     "name": "stdin",
     "output_type": "stream",
     "text": [
      " jahnavi modupalli\n"
     ]
    }
   ],
   "source": [
    "string = input() # Input a string from the user\n"
   ]
  },
  {
   "cell_type": "code",
   "execution_count": 29,
   "id": "1523c12e-c3df-4263-a7b0-4011794f0164",
   "metadata": {},
   "outputs": [],
   "source": [
    "modified = string.replace(\" \", \"\") # Remove spaces from the input string"
   ]
  },
  {
   "cell_type": "code",
   "execution_count": 30,
   "id": "f25636b7-ff89-4c93-97fb-790cab910a4c",
   "metadata": {},
   "outputs": [
    {
     "name": "stdout",
     "output_type": "stream",
     "text": [
      "jahnavimodupalli\n"
     ]
    }
   ],
   "source": [
    "print(modified) # Print the modified string without spaces"
   ]
  },
  {
   "cell_type": "code",
   "execution_count": 33,
   "id": "e9a5bfcb-fceb-41ec-b3f9-19efb7007268",
   "metadata": {},
   "outputs": [],
   "source": [
    "#swaping of two numbers without third variable"
   ]
  },
  {
   "cell_type": "code",
   "execution_count": 52,
   "id": "ad24790d-a189-45a2-a84b-af50c07d872c",
   "metadata": {},
   "outputs": [
    {
     "name": "stdin",
     "output_type": "stream",
     "text": [
      " 3\n"
     ]
    }
   ],
   "source": [
    "a=int(input())"
   ]
  },
  {
   "cell_type": "code",
   "execution_count": 53,
   "id": "be04af70-bcf6-4ffc-8bf2-2dd4b3885a48",
   "metadata": {},
   "outputs": [
    {
     "name": "stdin",
     "output_type": "stream",
     "text": [
      " 5\n"
     ]
    }
   ],
   "source": [
    "b=int(input())"
   ]
  },
  {
   "cell_type": "code",
   "execution_count": 54,
   "id": "937584a8-d4c8-46f6-9eb7-07913ff34e27",
   "metadata": {},
   "outputs": [],
   "source": [
    "a=a+b"
   ]
  },
  {
   "cell_type": "code",
   "execution_count": 55,
   "id": "354d1fe6-1368-41cf-87d1-f78ddb978dff",
   "metadata": {},
   "outputs": [],
   "source": [
    "b=a-b"
   ]
  },
  {
   "cell_type": "code",
   "execution_count": 56,
   "id": "09c1c7ae-102d-4c93-ae56-08728720d6c3",
   "metadata": {},
   "outputs": [],
   "source": [
    "a=a-b"
   ]
  },
  {
   "cell_type": "code",
   "execution_count": 57,
   "id": "dfaa9f00-dcab-4ebd-a29e-b39ca49a8003",
   "metadata": {},
   "outputs": [
    {
     "name": "stdout",
     "output_type": "stream",
     "text": [
      "5 3\n"
     ]
    }
   ],
   "source": [
    "print(a,b)"
   ]
  },
  {
   "cell_type": "code",
   "execution_count": 58,
   "id": "4adba6c4-ae79-43c0-ab94-1820bb13ee36",
   "metadata": {},
   "outputs": [],
   "source": [
    "#Calculate and display the area "
   ]
  },
  {
   "cell_type": "code",
   "execution_count": 64,
   "id": "3754687a-1621-4bfe-9127-40fceea54587",
   "metadata": {},
   "outputs": [
    {
     "name": "stdin",
     "output_type": "stream",
     "text": [
      " 7\n"
     ]
    }
   ],
   "source": [
    "l=float(input()) #input length"
   ]
  },
  {
   "cell_type": "code",
   "execution_count": 65,
   "id": "d65ecbd1-4563-4cec-90fd-6b55b9fe28d9",
   "metadata": {},
   "outputs": [
    {
     "name": "stdin",
     "output_type": "stream",
     "text": [
      " 8\n"
     ]
    }
   ],
   "source": [
    "b=float(input()) #input breadth"
   ]
  },
  {
   "cell_type": "code",
   "execution_count": 66,
   "id": "c7cd387d-3d79-4772-a01b-8d849065d09a",
   "metadata": {},
   "outputs": [],
   "source": [
    "area=l*b #caluclate area"
   ]
  },
  {
   "cell_type": "code",
   "execution_count": 67,
   "id": "cd2e0d06-c33d-4cb8-8f89-18b64c19d77b",
   "metadata": {},
   "outputs": [
    {
     "name": "stdout",
     "output_type": "stream",
     "text": [
      "56.0\n"
     ]
    }
   ],
   "source": [
    "print(area) #print area"
   ]
  },
  {
   "cell_type": "code",
   "execution_count": null,
   "id": "4be71c64-88b7-41f8-a634-619ece26c3bb",
   "metadata": {},
   "outputs": [],
   "source": []
  }
 ],
 "metadata": {
  "kernelspec": {
   "display_name": "Python 3 (ipykernel)",
   "language": "python",
   "name": "python3"
  },
  "language_info": {
   "codemirror_mode": {
    "name": "ipython",
    "version": 3
   },
   "file_extension": ".py",
   "mimetype": "text/x-python",
   "name": "python",
   "nbconvert_exporter": "python",
   "pygments_lexer": "ipython3",
   "version": "3.10.8"
  }
 },
 "nbformat": 4,
 "nbformat_minor": 5
}
